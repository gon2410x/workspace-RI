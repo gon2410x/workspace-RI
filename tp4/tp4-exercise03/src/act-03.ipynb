{
 "cells": [
  {
   "cell_type": "code",
   "execution_count": 1,
   "id": "701a7c3e-b611-4dc5-be54-60a62ef41f55",
   "metadata": {
    "scrolled": true
   },
   "outputs": [
    {
     "name": "stdout",
     "output_type": "stream",
     "text": [
      "[('subir', 3), ('dólar', 3), ('cambiario', 3), ('corrido', 3), ('decir', 3), ('javier', 2), ('milei', 2), ('presidente', 2), ('negar', 2), ('banco', 2)]\n",
      "[('dólar', 8), ('precio', 7), ('millón', 7), ('pesos', 6), ('cerrar', 6), ('usd', 6), ('nuevo', 5), ('ciento', 5), ('peso', 5), ('económico', 5)]\n",
      "[('gas', 16), ('país', 7), ('estación', 6), ('encontrar', 6), ('gnc', 5), ('contrato', 5), ('abastecimiento', 5), ('gobierno', 5), ('suministro', 4), ('semana', 4)]\n",
      "[('cepo', 11), ('fiscal', 7), ('economía', 6), ('llach', 5), ('cambiario', 5), ('requisito', 5), ('galperin', 4), ('económico', 4), ('estabilizar', 4), ('caputo', 4)]\n",
      "[('dólar', 13), ('subir', 7), ('libre', 5), ('circulación', 5), ('monetario', 5), ('pesos', 5), ('liquidación', 4), ('tasa', 4), ('peso', 4), ('seguir', 4)]\n",
      "[('empresa', 11), ('ualá', 6), ('argentino', 5), ('posición', 4), ('ofrecer', 4), ('financiero', 4), ('banco', 4), ('unicornio', 3), ('empleado', 3), ('9', 3)]\n",
      "[('deuda', 9), ('bono', 7), ('mes', 7), ('usd', 7), ('fiscal', 7), ('mercado', 6), ('riesgo', 6), ('punto', 6), ('dólares', 5), ('precio', 5)]\n",
      "[('venta', 12), ('año', 11), ('mes', 10), ('total', 10), ('marzo', 9), ('rubro', 9), ('variación', 9), ('representar', 8), ('nominal', 7), ('peso', 6)]\n",
      "[('gas', 15), ('poder', 9), ('demanda', 8), ('sistema', 8), ('cortar', 7), ('interrumpibl', 7), ('empresa', 6), ('día', 6), ('contrato', 6), ('pedir', 6)]\n",
      "[('carrefour', 9), ('precio', 8), ('mes', 7), ('corajudo', 6), ('15', 4), ('producto', 4), ('abril', 4), ('iniciativo', 4), ('hacer', 4), ('marca', 4)]\n"
     ]
    }
   ],
   "source": [
    "from urllib.request import Request, urlopen \n",
    "from bs4 import BeautifulSoup \n",
    "import scraper\n",
    "\n",
    "url = 'https://www.infobae.com/economia/'\n",
    "req = Request(url, headers={'User-Agent': 'Mozilla/5.0'}) \n",
    "htlm = urlopen(req).read()\n",
    "soup = BeautifulSoup(htlm, 'lxml')\n",
    "anchor = soup.find_all(\"a\", class_=\"headline-link\")\n",
    "\n",
    "\n",
    "links = []\n",
    "for link in anchor[0:10]:\n",
    "    link_noticia= link.get('href')\n",
    "    links.append('https://www.infobae.com/'+link_noticia)\n",
    "\n",
    "\n",
    "notices = []\n",
    "#Obtencion de los datos pedidos\n",
    "for link in links:\n",
    "    data_extract = scraper.extractData(link)  \n",
    "    notices.append(data_extract)\n",
    "\n",
    "\n",
    "import spacy\n",
    "import nltk\n",
    "from nltk.tokenize import word_tokenize \n",
    "from nltk.corpus import stopwords\n",
    "from collections import Counter\n",
    "\n",
    "for notice in notices:\n",
    "    text = ''\n",
    "    text += notice['title'] + \" \"\n",
    "    text += notice['summary'] + \" \"\n",
    "    text += notice['body'] + \" \"\n",
    "\n",
    "    tokens = word_tokenize(text, language='spanish') \n",
    "    stop_words = set(stopwords.words('spanish'))\n",
    "    tokens = [token.lower() for token in tokens if token.isalnum() and token.lower() not in stop_words]\n",
    "\n",
    "\n",
    "    nlp = spacy.load('es_core_news_sm')\n",
    "    textSpacy = \"\"\n",
    "    for token in tokens:\n",
    "        textSpacy += token + \" \"\n",
    "\n",
    "    doc = nlp(textSpacy)\n",
    "    LEMMA = [ L.lemma_ for L in doc]\n",
    "\n",
    "    frecuencia_tokens = Counter(LEMMA)\n",
    "    TOP_10 = frecuencia_tokens.most_common(10)\n",
    "\n",
    "    print(TOP_10)"
   ]
  },
  {
   "cell_type": "code",
   "execution_count": null,
   "id": "ce98c8eb-23e3-4543-8dda-bdb58b98d309",
   "metadata": {},
   "outputs": [],
   "source": []
  }
 ],
 "metadata": {
  "kernelspec": {
   "display_name": "Python 3 (ipykernel)",
   "language": "python",
   "name": "python3"
  },
  "language_info": {
   "codemirror_mode": {
    "name": "ipython",
    "version": 3
   },
   "file_extension": ".py",
   "mimetype": "text/x-python",
   "name": "python",
   "nbconvert_exporter": "python",
   "pygments_lexer": "ipython3",
   "version": "3.11.3"
  }
 },
 "nbformat": 4,
 "nbformat_minor": 5
}
