{
 "cells": [
  {
   "cell_type": "code",
   "execution_count": 13,
   "id": "fda85910-364b-49ab-bb7a-c86940be2d5c",
   "metadata": {},
   "outputs": [],
   "source": [
    "import nltk\n",
    "from nltk.util import ngrams"
   ]
  },
  {
   "cell_type": "code",
   "execution_count": 14,
   "id": "053ef5df-c61b-4c4e-aec6-12fa2616ebd9",
   "metadata": {},
   "outputs": [],
   "source": [
    "route = '../assets/texto1-primer-parafo.txt'\n",
    "text4 = open(route, encoding=\"utf-8\")\n",
    "text = text4.read()\n",
    "text4.close()"
   ]
  },
  {
   "cell_type": "code",
   "execution_count": 15,
   "id": "e03da052-7b9a-4ded-b5ee-1342a13bbd4c",
   "metadata": {},
   "outputs": [],
   "source": [
    "def get_n_grama(text_, num_n_grama):\n",
    "\n",
    "    n_grama = []\n",
    "    for i in range(len(text_) - num_n_grama + 1):\n",
    "\n",
    "        n_grama.append(\"\")\n",
    "        for j in range(num_n_grama):\n",
    "            n_grama[i] += text_[i+j] + \" \"\n",
    "\n",
    "    return n_grama"
   ]
  },
  {
   "cell_type": "code",
   "execution_count": 16,
   "id": "64b58a87-25d3-4dad-b65a-979c78926e27",
   "metadata": {},
   "outputs": [
    {
     "name": "stdout",
     "output_type": "stream",
     "text": [
      "['Los', 'sistemas', 'recomendadores', 'son', 'herramientas', 'enfocadas', 'a', 'ayudar', 'a', 'los', 'usuarios', 'a', 'obtener', 'aquella', 'información', 'que', 'mejor', 'se', 'corresponda', 'con', 'sus', 'intereses', 'y', 'preferencias', 'Mientras', 'que', 'un', 'buscador', 'habitual', 'se', 'centra', 'en', 'encontrar', 'aquello', 'que', 'el', 'usuario', 'solicita', 'un', 'sistema', 'recomendador', 'ayuda', 'al', 'usuario', 'a', 'tomar', 'una', 'decisión', 'que', 'puede', 'ser', 'la', 'compra', 'de', 'un', 'producto', 'en', 'un', 'portal', 'de', 'comercio', 'electrónico', 'la', 'lectura', 'de', 'un', 'libro', 'la', 'revisión', 'de', 'un', 'artículo', 'científico', 'el', 'acceso', 'a', 'una', 'página', 'web', 'en', 'específico', 'o', 'el', 'estudio', 'de', 'determinado', 'recurso', 'educativo', 'en', 'una', 'plataforma', 'virtual', 'de', 'aprendizaje']\n"
     ]
    }
   ],
   "source": [
    "text = nltk.word_tokenize(text)\n",
    "\n",
    "punctuations = \".,()=%\"\n",
    "\n",
    "text = [term for term in text if not (term in punctuations)]\n",
    "print(text)"
   ]
  },
  {
   "cell_type": "code",
   "execution_count": 17,
   "id": "1d638d27-4db9-492b-93b5-8d99098bc520",
   "metadata": {},
   "outputs": [
    {
     "name": "stdout",
     "output_type": "stream",
     "text": [
      "\t2-grama\n",
      "\n",
      " ['Los sistemas ', 'sistemas recomendadores ', 'recomendadores son ', 'son herramientas ', 'herramientas enfocadas ', 'enfocadas a ', 'a ayudar ', 'ayudar a ', 'a los ', 'los usuarios ', 'usuarios a ', 'a obtener ', 'obtener aquella ', 'aquella información ', 'información que ', 'que mejor ', 'mejor se ', 'se corresponda ', 'corresponda con ', 'con sus ', 'sus intereses ', 'intereses y ', 'y preferencias ', 'preferencias Mientras ', 'Mientras que ', 'que un ', 'un buscador ', 'buscador habitual ', 'habitual se ', 'se centra ', 'centra en ', 'en encontrar ', 'encontrar aquello ', 'aquello que ', 'que el ', 'el usuario ', 'usuario solicita ', 'solicita un ', 'un sistema ', 'sistema recomendador ', 'recomendador ayuda ', 'ayuda al ', 'al usuario ', 'usuario a ', 'a tomar ', 'tomar una ', 'una decisión ', 'decisión que ', 'que puede ', 'puede ser ', 'ser la ', 'la compra ', 'compra de ', 'de un ', 'un producto ', 'producto en ', 'en un ', 'un portal ', 'portal de ', 'de comercio ', 'comercio electrónico ', 'electrónico la ', 'la lectura ', 'lectura de ', 'de un ', 'un libro ', 'libro la ', 'la revisión ', 'revisión de ', 'de un ', 'un artículo ', 'artículo científico ', 'científico el ', 'el acceso ', 'acceso a ', 'a una ', 'una página ', 'página web ', 'web en ', 'en específico ', 'específico o ', 'o el ', 'el estudio ', 'estudio de ', 'de determinado ', 'determinado recurso ', 'recurso educativo ', 'educativo en ', 'en una ', 'una plataforma ', 'plataforma virtual ', 'virtual de ', 'de aprendizaje ']\n"
     ]
    }
   ],
   "source": [
    "two_grama = get_n_grama( text, 2)\n",
    "print(\"\\t2-grama\\n\\n\", two_grama)"
   ]
  },
  {
   "cell_type": "code",
   "execution_count": 18,
   "id": "605440b9-0ba6-4831-a6dc-c51a7c2bfa2a",
   "metadata": {},
   "outputs": [
    {
     "name": "stdout",
     "output_type": "stream",
     "text": [
      "\t3-grama\n",
      "\n",
      " ['Los sistemas recomendadores ', 'sistemas recomendadores son ', 'recomendadores son herramientas ', 'son herramientas enfocadas ', 'herramientas enfocadas a ', 'enfocadas a ayudar ', 'a ayudar a ', 'ayudar a los ', 'a los usuarios ', 'los usuarios a ', 'usuarios a obtener ', 'a obtener aquella ', 'obtener aquella información ', 'aquella información que ', 'información que mejor ', 'que mejor se ', 'mejor se corresponda ', 'se corresponda con ', 'corresponda con sus ', 'con sus intereses ', 'sus intereses y ', 'intereses y preferencias ', 'y preferencias Mientras ', 'preferencias Mientras que ', 'Mientras que un ', 'que un buscador ', 'un buscador habitual ', 'buscador habitual se ', 'habitual se centra ', 'se centra en ', 'centra en encontrar ', 'en encontrar aquello ', 'encontrar aquello que ', 'aquello que el ', 'que el usuario ', 'el usuario solicita ', 'usuario solicita un ', 'solicita un sistema ', 'un sistema recomendador ', 'sistema recomendador ayuda ', 'recomendador ayuda al ', 'ayuda al usuario ', 'al usuario a ', 'usuario a tomar ', 'a tomar una ', 'tomar una decisión ', 'una decisión que ', 'decisión que puede ', 'que puede ser ', 'puede ser la ', 'ser la compra ', 'la compra de ', 'compra de un ', 'de un producto ', 'un producto en ', 'producto en un ', 'en un portal ', 'un portal de ', 'portal de comercio ', 'de comercio electrónico ', 'comercio electrónico la ', 'electrónico la lectura ', 'la lectura de ', 'lectura de un ', 'de un libro ', 'un libro la ', 'libro la revisión ', 'la revisión de ', 'revisión de un ', 'de un artículo ', 'un artículo científico ', 'artículo científico el ', 'científico el acceso ', 'el acceso a ', 'acceso a una ', 'a una página ', 'una página web ', 'página web en ', 'web en específico ', 'en específico o ', 'específico o el ', 'o el estudio ', 'el estudio de ', 'estudio de determinado ', 'de determinado recurso ', 'determinado recurso educativo ', 'recurso educativo en ', 'educativo en una ', 'en una plataforma ', 'una plataforma virtual ', 'plataforma virtual de ', 'virtual de aprendizaje ']\n"
     ]
    }
   ],
   "source": [
    "three_grama = get_n_grama( text, 3)\n",
    "print(\"\\t3-grama\\n\\n\", three_grama)"
   ]
  },
  {
   "cell_type": "code",
   "execution_count": 19,
   "id": "8147b1c5-93b0-435b-8456-bb3031e6d5f6",
   "metadata": {},
   "outputs": [
    {
     "name": "stdout",
     "output_type": "stream",
     "text": [
      "\n",
      "\t2-grams\n",
      "\n",
      " ['Los sistemas', 'sistemas recomendadores', 'recomendadores son', 'son herramientas', 'herramientas enfocadas', 'enfocadas a', 'a ayudar', 'ayudar a', 'a los', 'los usuarios', 'usuarios a', 'a obtener', 'obtener aquella', 'aquella información', 'información que', 'que mejor', 'mejor se', 'se corresponda', 'corresponda con', 'con sus', 'sus intereses', 'intereses y', 'y preferencias', 'preferencias Mientras', 'Mientras que', 'que un', 'un buscador', 'buscador habitual', 'habitual se', 'se centra', 'centra en', 'en encontrar', 'encontrar aquello', 'aquello que', 'que el', 'el usuario', 'usuario solicita', 'solicita un', 'un sistema', 'sistema recomendador', 'recomendador ayuda', 'ayuda al', 'al usuario', 'usuario a', 'a tomar', 'tomar una', 'una decisión', 'decisión que', 'que puede', 'puede ser', 'ser la', 'la compra', 'compra de', 'de un', 'un producto', 'producto en', 'en un', 'un portal', 'portal de', 'de comercio', 'comercio electrónico', 'electrónico la', 'la lectura', 'lectura de', 'de un', 'un libro', 'libro la', 'la revisión', 'revisión de', 'de un', 'un artículo', 'artículo científico', 'científico el', 'el acceso', 'acceso a', 'a una', 'una página', 'página web', 'web en', 'en específico', 'específico o', 'o el', 'el estudio', 'estudio de', 'de determinado', 'determinado recurso', 'recurso educativo', 'educativo en', 'en una', 'una plataforma', 'plataforma virtual', 'virtual de', 'de aprendizaje']\n"
     ]
    }
   ],
   "source": [
    "twoGrams = ngrams(text,2)\n",
    "print(\"\\n\\t2-grams\\n\\n\", [\" \".join(term) for term in twoGrams])"
   ]
  },
  {
   "cell_type": "code",
   "execution_count": 20,
   "id": "5e420d6c-6f1e-44d8-a92a-d69ef9916287",
   "metadata": {},
   "outputs": [
    {
     "name": "stdout",
     "output_type": "stream",
     "text": [
      "\n",
      "\t3-grams\n",
      "\n",
      " ['Los sistemas recomendadores', 'sistemas recomendadores son', 'recomendadores son herramientas', 'son herramientas enfocadas', 'herramientas enfocadas a', 'enfocadas a ayudar', 'a ayudar a', 'ayudar a los', 'a los usuarios', 'los usuarios a', 'usuarios a obtener', 'a obtener aquella', 'obtener aquella información', 'aquella información que', 'información que mejor', 'que mejor se', 'mejor se corresponda', 'se corresponda con', 'corresponda con sus', 'con sus intereses', 'sus intereses y', 'intereses y preferencias', 'y preferencias Mientras', 'preferencias Mientras que', 'Mientras que un', 'que un buscador', 'un buscador habitual', 'buscador habitual se', 'habitual se centra', 'se centra en', 'centra en encontrar', 'en encontrar aquello', 'encontrar aquello que', 'aquello que el', 'que el usuario', 'el usuario solicita', 'usuario solicita un', 'solicita un sistema', 'un sistema recomendador', 'sistema recomendador ayuda', 'recomendador ayuda al', 'ayuda al usuario', 'al usuario a', 'usuario a tomar', 'a tomar una', 'tomar una decisión', 'una decisión que', 'decisión que puede', 'que puede ser', 'puede ser la', 'ser la compra', 'la compra de', 'compra de un', 'de un producto', 'un producto en', 'producto en un', 'en un portal', 'un portal de', 'portal de comercio', 'de comercio electrónico', 'comercio electrónico la', 'electrónico la lectura', 'la lectura de', 'lectura de un', 'de un libro', 'un libro la', 'libro la revisión', 'la revisión de', 'revisión de un', 'de un artículo', 'un artículo científico', 'artículo científico el', 'científico el acceso', 'el acceso a', 'acceso a una', 'a una página', 'una página web', 'página web en', 'web en específico', 'en específico o', 'específico o el', 'o el estudio', 'el estudio de', 'estudio de determinado', 'de determinado recurso', 'determinado recurso educativo', 'recurso educativo en', 'educativo en una', 'en una plataforma', 'una plataforma virtual', 'plataforma virtual de', 'virtual de aprendizaje']\n"
     ]
    }
   ],
   "source": [
    "threeGrams = ngrams(text,3)\n",
    "print(\"\\n\\t3-grams\\n\\n\", [\" \".join(term) for term in threeGrams])"
   ]
  },
  {
   "cell_type": "code",
   "execution_count": 23,
   "id": "3517d475-7ca0-41ba-80ad-cfd32d32a96a",
   "metadata": {},
   "outputs": [
    {
     "name": "stdout",
     "output_type": "stream",
     "text": [
      "[('Los', 'sistemas', 'recomendadores'), ('sistemas', 'recomendadores', 'son'), ('recomendadores', 'son', 'herramientas'), ('son', 'herramientas', 'enfocadas'), ('herramientas', 'enfocadas', 'a'), ('enfocadas', 'a', 'ayudar'), ('a', 'ayudar', 'a'), ('ayudar', 'a', 'los'), ('a', 'los', 'usuarios'), ('los', 'usuarios', 'a'), ('usuarios', 'a', 'obtener'), ('a', 'obtener', 'aquella'), ('obtener', 'aquella', 'información'), ('aquella', 'información', 'que'), ('información', 'que', 'mejor'), ('que', 'mejor', 'se'), ('mejor', 'se', 'corresponda'), ('se', 'corresponda', 'con'), ('corresponda', 'con', 'sus'), ('con', 'sus', 'intereses'), ('sus', 'intereses', 'y'), ('intereses', 'y', 'preferencias'), ('y', 'preferencias', 'Mientras'), ('preferencias', 'Mientras', 'que'), ('Mientras', 'que', 'un'), ('que', 'un', 'buscador'), ('un', 'buscador', 'habitual'), ('buscador', 'habitual', 'se'), ('habitual', 'se', 'centra'), ('se', 'centra', 'en'), ('centra', 'en', 'encontrar'), ('en', 'encontrar', 'aquello'), ('encontrar', 'aquello', 'que'), ('aquello', 'que', 'el'), ('que', 'el', 'usuario'), ('el', 'usuario', 'solicita'), ('usuario', 'solicita', 'un'), ('solicita', 'un', 'sistema'), ('un', 'sistema', 'recomendador'), ('sistema', 'recomendador', 'ayuda'), ('recomendador', 'ayuda', 'al'), ('ayuda', 'al', 'usuario'), ('al', 'usuario', 'a'), ('usuario', 'a', 'tomar'), ('a', 'tomar', 'una'), ('tomar', 'una', 'decisión'), ('una', 'decisión', 'que'), ('decisión', 'que', 'puede'), ('que', 'puede', 'ser'), ('puede', 'ser', 'la'), ('ser', 'la', 'compra'), ('la', 'compra', 'de'), ('compra', 'de', 'un'), ('de', 'un', 'producto'), ('un', 'producto', 'en'), ('producto', 'en', 'un'), ('en', 'un', 'portal'), ('un', 'portal', 'de'), ('portal', 'de', 'comercio'), ('de', 'comercio', 'electrónico'), ('comercio', 'electrónico', 'la'), ('electrónico', 'la', 'lectura'), ('la', 'lectura', 'de'), ('lectura', 'de', 'un'), ('de', 'un', 'libro'), ('un', 'libro', 'la'), ('libro', 'la', 'revisión'), ('la', 'revisión', 'de'), ('revisión', 'de', 'un'), ('de', 'un', 'artículo'), ('un', 'artículo', 'científico'), ('artículo', 'científico', 'el'), ('científico', 'el', 'acceso'), ('el', 'acceso', 'a'), ('acceso', 'a', 'una'), ('a', 'una', 'página'), ('una', 'página', 'web'), ('página', 'web', 'en'), ('web', 'en', 'específico'), ('en', 'específico', 'o'), ('específico', 'o', 'el'), ('o', 'el', 'estudio'), ('el', 'estudio', 'de'), ('estudio', 'de', 'determinado'), ('de', 'determinado', 'recurso'), ('determinado', 'recurso', 'educativo'), ('recurso', 'educativo', 'en'), ('educativo', 'en', 'una'), ('en', 'una', 'plataforma'), ('una', 'plataforma', 'virtual'), ('plataforma', 'virtual', 'de'), ('virtual', 'de', 'aprendizaje')]\n"
     ]
    }
   ],
   "source": [
    "pruebaGrams = ngrams(text,3)\n",
    "print(list(pruebaGrams))"
   ]
  },
  {
   "cell_type": "code",
   "execution_count": null,
   "id": "fbe838dd-f552-44f8-a0f4-5c491d77267d",
   "metadata": {},
   "outputs": [],
   "source": []
  }
 ],
 "metadata": {
  "kernelspec": {
   "display_name": "Python 3 (ipykernel)",
   "language": "python",
   "name": "python3"
  },
  "language_info": {
   "codemirror_mode": {
    "name": "ipython",
    "version": 3
   },
   "file_extension": ".py",
   "mimetype": "text/x-python",
   "name": "python",
   "nbconvert_exporter": "python",
   "pygments_lexer": "ipython3",
   "version": "3.11.3"
  }
 },
 "nbformat": 4,
 "nbformat_minor": 5
}
